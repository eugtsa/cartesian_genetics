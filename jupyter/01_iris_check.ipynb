{
 "cells": [
  {
   "cell_type": "code",
   "execution_count": 1,
   "metadata": {},
   "outputs": [],
   "source": [
    "import os,sys\n",
    "sys.path.append('..')"
   ]
  },
  {
   "cell_type": "code",
   "execution_count": 2,
   "metadata": {},
   "outputs": [],
   "source": [
    "from cartesian_genetics_base.cartesian_genome_func import CartesianGenomeFunc"
   ]
  },
  {
   "cell_type": "code",
   "execution_count": 3,
   "metadata": {},
   "outputs": [],
   "source": [
    "from sklearn.datasets import load_iris"
   ]
  },
  {
   "cell_type": "code",
   "execution_count": 4,
   "metadata": {},
   "outputs": [],
   "source": [
    "iris = load_iris()"
   ]
  },
  {
   "cell_type": "code",
   "execution_count": 6,
   "metadata": {},
   "outputs": [],
   "source": [
    "data,target = iris['data'],iris['target']"
   ]
  },
  {
   "cell_type": "code",
   "execution_count": 9,
   "metadata": {},
   "outputs": [],
   "source": [
    "from sklearn.metrics import mean_absolute_error"
   ]
  },
  {
   "cell_type": "code",
   "execution_count": 50,
   "metadata": {},
   "outputs": [],
   "source": [
    "import math\n",
    "\n",
    "def sqrt(x):\n",
    "    return math.sqrt(abs(x))\n",
    "\n",
    "def log(x):\n",
    "    return math.log(abs(x+0.00001))\n",
    "\n",
    "def summ(x,y):\n",
    "    return x+y\n",
    "\n",
    "def diff(x,y):\n",
    "    return x-y\n",
    "\n",
    "def mult(x,y):\n",
    "    return x*y\n",
    "\n",
    "def maxx(x,y):\n",
    "    return max(x,y)\n",
    "\n",
    "def minn(x,y):\n",
    "    return min(x,y)"
   ]
  },
  {
   "cell_type": "code",
   "execution_count": 51,
   "metadata": {},
   "outputs": [],
   "source": [
    "basis = [sqrt,log,diff,summ,mult,maxx,minn]"
   ]
  },
  {
   "cell_type": "code",
   "execution_count": 52,
   "metadata": {},
   "outputs": [
    {
     "data": {
      "text/plain": [
       "(150, 4)"
      ]
     },
     "execution_count": 52,
     "metadata": {},
     "output_type": "execute_result"
    }
   ],
   "source": [
    "data.shape"
   ]
  },
  {
   "cell_type": "code",
   "execution_count": 64,
   "metadata": {},
   "outputs": [],
   "source": [
    "from sklearn.model_selection import train_test_split\n",
    "\n",
    "X_train,X_test,y_train,y_test = train_test_split(data,target,test_size=0.33,random_state=42)"
   ]
  },
  {
   "cell_type": "code",
   "execution_count": 65,
   "metadata": {},
   "outputs": [],
   "source": [
    "preds = [cgf.call(x) for x in X_train]"
   ]
  },
  {
   "cell_type": "code",
   "execution_count": 66,
   "metadata": {},
   "outputs": [
    {
     "data": {
      "text/plain": [
       "0.6502578636854892"
      ]
     },
     "execution_count": 66,
     "metadata": {},
     "output_type": "execute_result"
    }
   ],
   "source": [
    "mean_absolute_error(preds,y_train)"
   ]
  },
  {
   "cell_type": "code",
   "execution_count": 67,
   "metadata": {},
   "outputs": [],
   "source": [
    "%matplotlib inline\n",
    "\n",
    "import matplotlib.pyplot as plt"
   ]
  },
  {
   "cell_type": "code",
   "execution_count": 75,
   "metadata": {},
   "outputs": [],
   "source": [
    "import random\n",
    "\n",
    "def get_mutated_samples(in_sample,n_points=1,new_samples_count=10):\n",
    "    while new_samples_count!=0:\n",
    "        points_to_do = n_points\n",
    "        new_sample = [v for v in in_sample]\n",
    "        while points_to_do>0:\n",
    "            mutate_point = random.choice([i for i in range(len(in_sample))])\n",
    "            new_sample = [v if i!=mutate_point else random.random() for i,v in enumerate(new_sample)]\n",
    "            points_to_do-=1\n",
    "        yield new_sample\n",
    "        new_samples_count-=1"
   ]
  },
  {
   "cell_type": "code",
   "execution_count": 87,
   "metadata": {},
   "outputs": [
    {
     "data": {
      "application/vnd.jupyter.widget-view+json": {
       "model_id": "ccd70b69b2934e7aafea548fd7578070",
       "version_major": 2,
       "version_minor": 0
      },
      "text/plain": [
       "HBox(children=(IntProgress(value=0, max=150), HTML(value='')))"
      ]
     },
     "metadata": {},
     "output_type": "display_data"
    },
    {
     "name": "stdout",
     "output_type": "stream",
     "text": [
      "new score in gen: 3 0.5525965421429182\n",
      "new score in gen: 4 0.43962835074883716\n",
      "new score in gen: 7 0.386801495480368\n",
      "new score in gen: 8 0.2818672895269462\n",
      "new score in gen: 44 0.2599445791030068\n",
      "new score in gen: 114 0.24327194225338925\n",
      "new score in gen: 121 0.24014333457187143\n",
      "new score in gen: 123 0.22445426797099877\n"
     ]
    },
    {
     "data": {
      "application/vnd.jupyter.widget-view+json": {
       "model_id": "06f753191ef8458c844b374b90ac2420",
       "version_major": 2,
       "version_minor": 0
      },
      "text/plain": [
       "HBox(children=(IntProgress(value=0, max=150), HTML(value='')))"
      ]
     },
     "metadata": {},
     "output_type": "display_data"
    },
    {
     "name": "stdout",
     "output_type": "stream",
     "text": [
      "new score in gen: 0 0.6314073580494808\n",
      "new score in gen: 1 0.4257444289179682\n",
      "new score in gen: 4 0.36750250538347196\n",
      "new score in gen: 18 0.35348686871187496\n",
      "new score in gen: 22 0.2995192000524194\n",
      "new score in gen: 51 0.29951655336903454\n",
      "new score in gen: 82 0.2899185789454973\n"
     ]
    },
    {
     "data": {
      "application/vnd.jupyter.widget-view+json": {
       "model_id": "57b8016c0c734f16b82ba9a6a6f061c8",
       "version_major": 2,
       "version_minor": 0
      },
      "text/plain": [
       "HBox(children=(IntProgress(value=0, max=150), HTML(value='')))"
      ]
     },
     "metadata": {},
     "output_type": "display_data"
    },
    {
     "name": "stdout",
     "output_type": "stream",
     "text": [
      "new score in gen: 0 0.5613592510896922\n",
      "new score in gen: 1 0.263\n"
     ]
    }
   ],
   "source": [
    "from tqdm import tqdm_notebook\n",
    "\n",
    "gen_and_score = dict()\n",
    "\n",
    "for rec_depth in [1,2,3]:\n",
    "    gen_and_score[rec_depth] = list()\n",
    "    cgf = CartesianGenomeFunc(basis_funcs=basis,\n",
    "                              n_inputs=data.shape[1],\n",
    "                              n_outputs=1,\n",
    "                              depth=4,\n",
    "                              recurse_depth=rec_depth,\n",
    "                              seed=1,\n",
    "                              n_rows=4)\n",
    "\n",
    "    cgf.init_random_genome()\n",
    "\n",
    "    n_generations = 150\n",
    "    n_samples_in_gen = 15\n",
    "    mut_points = 3\n",
    "\n",
    "    top_score = mean_absolute_error(preds,y_train)\n",
    "    top_genome = cgf.get_genome()\n",
    "\n",
    "    for i in tqdm_notebook(range(n_generations)):\n",
    "        for new_sample in get_mutated_samples(top_genome,n_points=mut_points,new_samples_count=n_samples_in_gen):\n",
    "            cgf.set_genome(new_sample)\n",
    "            new_preds = [cgf.call(x) for x in X_train]\n",
    "            new_score = mean_absolute_error(new_preds,y_train)\n",
    "            if new_score<top_score:\n",
    "                print('new score in gen:',i,new_score)\n",
    "                top_score = new_score\n",
    "                top_genome = cgf.get_genome()\n",
    "        gen_and_score[rec_depth].append((i,top_score))"
   ]
  },
  {
   "cell_type": "code",
   "execution_count": 83,
   "metadata": {},
   "outputs": [
    {
     "data": {
      "text/plain": [
       "0.22445426797099877"
      ]
     },
     "execution_count": 83,
     "metadata": {},
     "output_type": "execute_result"
    }
   ],
   "source": [
    "top_score"
   ]
  },
  {
   "cell_type": "code",
   "execution_count": 84,
   "metadata": {},
   "outputs": [
    {
     "data": {
      "text/plain": [
       "[0.13436424411240122,\n",
       " 0.8474337369372327,\n",
       " 0.9779373371689631,\n",
       " 0.2550690257394217,\n",
       " 0.49543508709194095,\n",
       " 0.4494910647887381,\n",
       " 0.651592972722763,\n",
       " 0.7887233511355132,\n",
       " 0.6090314777223957,\n",
       " 0.9898848164641699,\n",
       " 0.8357651039198697,\n",
       " 0.43276706790505337,\n",
       " 0.762280082457942,\n",
       " 0.9943934088859884,\n",
       " 0.4453871940548014,\n",
       " 0.7215400323407826,\n",
       " 0.22876222127045265,\n",
       " 0.9452706955539223,\n",
       " 0.10581194484464862,\n",
       " 0.030589983033553536,\n",
       " 0.0254458609934608,\n",
       " 0.940734522249,\n",
       " 0.9391491627785106,\n",
       " 0.38120423768821243,\n",
       " 0.21659939713061338,\n",
       " 0.4221165755827173,\n",
       " 0.029040787574867943,\n",
       " 0.22169166627303505,\n",
       " 0.8512926663313799,\n",
       " 0.49581224138185065,\n",
       " 0.23308445025757263,\n",
       " 0.5936185874860408,\n",
       " 0.2187810373376886,\n",
       " 0.05926889851793493,\n",
       " 0.6920224149671219,\n",
       " 0.333032922178609,\n",
       " 0.8375779756625729,\n",
       " 0.5564543226524334,\n",
       " 0.6422943629324456,\n",
       " 0.4422873731139537,\n",
       " 0.9925434121760651,\n",
       " 0.1304375553648549,\n",
       " 0.12088995980580641,\n",
       " 0.3326951853601291,\n",
       " 0.6213769996494155,\n",
       " 0.25787493087438684,\n",
       " 0.08079423783853867,\n",
       " 0.4221069999614152,\n",
       " 0.4479022405332955]"
      ]
     },
     "execution_count": 84,
     "metadata": {},
     "output_type": "execute_result"
    }
   ],
   "source": [
    "top_genome"
   ]
  },
  {
   "cell_type": "code",
   "execution_count": null,
   "metadata": {},
   "outputs": [],
   "source": []
  }
 ],
 "metadata": {
  "kernelspec": {
   "display_name": "Python 3",
   "language": "python",
   "name": "python3"
  },
  "language_info": {
   "codemirror_mode": {
    "name": "ipython",
    "version": 3
   },
   "file_extension": ".py",
   "mimetype": "text/x-python",
   "name": "python",
   "nbconvert_exporter": "python",
   "pygments_lexer": "ipython3",
   "version": "3.7.3"
  }
 },
 "nbformat": 4,
 "nbformat_minor": 2
}
